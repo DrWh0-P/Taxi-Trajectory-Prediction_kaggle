{
 "cells": [
  {
   "cell_type": "markdown",
   "metadata": {},
   "source": [
    "### Code for Preprocessing the Taxi Trip data for Neural Nets"
   ]
  },
  {
   "cell_type": "code",
   "execution_count": 3,
   "metadata": {
    "collapsed": false
   },
   "outputs": [],
   "source": [
    "# imports\n",
    "import pandas as pd\n",
    "import numpy as np\n",
    "import datetime\n",
    "import zipfile\n",
    "import json\n",
    "import re\n",
    "import math\n",
    "from mpl_toolkits.basemap import Basemap\n",
    "from sklearn.preprocessing import LabelEncoder"
   ]
  },
  {
   "cell_type": "code",
   "execution_count": 2,
   "metadata": {
    "collapsed": true
   },
   "outputs": [],
   "source": [
    "# function to convert posix format to datetime format\n",
    "# def datetime_parser(dt):\n",
    "#     return datetime.date.fromtimestamp(float(dt))"
   ]
  },
  {
   "cell_type": "markdown",
   "metadata": {},
   "source": [
    "#### Reading the data"
   ]
  },
  {
   "cell_type": "code",
   "execution_count": 4,
   "metadata": {
    "collapsed": false
   },
   "outputs": [],
   "source": [
    "#df=pd.read_csv('train.csv',nrows=100000,parse_dates=[5],date_parser=datetime_parser)\n",
    "df = pd.read_csv('train.csv', nrows= 100)"
   ]
  },
  {
   "cell_type": "code",
   "execution_count": 5,
   "metadata": {
    "collapsed": true
   },
   "outputs": [],
   "source": [
    "# converting the TIMESTAMP from posix to datetime format\n",
    "df.TIMESTAMP =  pd.to_datetime(df.TIMESTAMP, unit='s')"
   ]
  },
  {
   "cell_type": "code",
   "execution_count": 6,
   "metadata": {
    "collapsed": false
   },
   "outputs": [
    {
     "data": {
      "text/plain": [
       "['TRIP_ID',\n",
       " 'CALL_TYPE',\n",
       " 'ORIGIN_CALL',\n",
       " 'ORIGIN_STAND',\n",
       " 'TAXI_ID',\n",
       " 'TIMESTAMP',\n",
       " 'DAY_TYPE',\n",
       " 'MISSING_DATA',\n",
       " 'POLYLINE']"
      ]
     },
     "execution_count": 6,
     "metadata": {},
     "output_type": "execute_result"
    }
   ],
   "source": [
    "# checking the list of columns\n",
    "list(df.columns.values)"
   ]
  },
  {
   "cell_type": "code",
   "execution_count": 7,
   "metadata": {
    "collapsed": false
   },
   "outputs": [],
   "source": [
    "# creating the basemap for convertion of latitude and longitude to meters\n",
    "bm=Basemap(llcrnrlat=37,llcrnrlon=-9.5,urcrnrlat=41.5 ,urcrnrlon=-6.5,epsg=3763)\n",
    "x=math.ceil(bm.xmax/500)\n",
    "y=math.ceil(bm.ymax/500)"
   ]
  },
  {
   "cell_type": "code",
   "execution_count": 8,
   "metadata": {
    "collapsed": false
   },
   "outputs": [],
   "source": [
    "# function to convert coordinates into meters and outputs the new x and y's and also the grid they belong to\n",
    "# It does so by reading each line of the data.\n",
    "def grid(f,trip_path,trip_label,bm):    \n",
    "    for line in iter(f.readline,''):\n",
    "        l=[]\n",
    "        la = []\n",
    "        coord=line.split(\",\",8)[8]        \n",
    "        for c in re.finditer(\"(-?\\d+.\\d+),(-?\\d+.\\d+)\",coord):\n",
    "            c_m=bm(float(c.group(1)),float(c.group(2)))\n",
    "            square_ind=(math.ceil(c_m[0]/500),math.ceil(c_m[1]/500))\n",
    "            square_label=x*((math.ceil(c_m[1]/500))-1)+math.ceil(c_m[0]/500)\n",
    "            if (square_ind[0]*square_ind[1])<0:\n",
    "                continue\n",
    "            if (l):\n",
    "                if (square_ind!=l[-1]):\n",
    "                    l.append(square_ind)\n",
    "                    la.append(square_label)\n",
    "            else:\n",
    "                l.append(square_ind)\n",
    "                la.append(square_label)\n",
    "        trip_path[line.split(\",\",8)[0].strip('\"')]=l\n",
    "        trip_label[line.split(\",\",8)[0].strip('\"')]=la\n",
    "    f.close()"
   ]
  },
  {
   "cell_type": "markdown",
   "metadata": {},
   "source": [
    "### Converting the Latitude and Longitude to meters and the grid they belong to"
   ]
  },
  {
   "cell_type": "code",
   "execution_count": 11,
   "metadata": {
    "collapsed": false
   },
   "outputs": [],
   "source": [
    "# running the function for 1.7million rows\n",
    "trip_path = {}\n",
    "trip_label = {}\n",
    "grid(open(\"sample.csv\",'r'),trip_path,trip_label,bm)"
   ]
  },
  {
   "cell_type": "code",
   "execution_count": 12,
   "metadata": {
    "collapsed": false
   },
   "outputs": [],
   "source": [
    "# defining function for getting the first and last grid label\n",
    "def final_dest(x):\n",
    "    if bool(trip_label.get(x)):\n",
    "        return trip_label[str(x)][len(trip_label[str(x)])-1]\n",
    "    \n",
    "def start_dest(x):\n",
    "    if bool(trip_label.get(x)):\n",
    "        return trip_label[str(x)][0]"
   ]
  },
  {
   "cell_type": "markdown",
   "metadata": {},
   "source": [
    "##### Adding the first and last grid label on the dataframe"
   ]
  },
  {
   "cell_type": "code",
   "execution_count": 13,
   "metadata": {
    "collapsed": false
   },
   "outputs": [],
   "source": [
    "df['Destination_grid'] = df.TRIP_ID.apply(lambda x: final_dest(str(x)))\n",
    "df['Starting_grid'] = df.TRIP_ID.apply(lambda x: start_dest(str(x)))"
   ]
  },
  {
   "cell_type": "markdown",
   "metadata": {},
   "source": [
    "##### Preprocessing the data"
   ]
  },
  {
   "cell_type": "code",
   "execution_count": 14,
   "metadata": {
    "collapsed": false
   },
   "outputs": [],
   "source": [
    "# We are removing the columns which will not be used in the analysis\n",
    "df.drop(['TIMESTAMP','MISSING_DATA','POLYLINE','DAY_TYPE','TRIP_ID','ORIGIN_CALL','ORIGIN_STAND'], axis=1, inplace=True)"
   ]
  },
  {
   "cell_type": "code",
   "execution_count": 15,
   "metadata": {
    "collapsed": false
   },
   "outputs": [
    {
     "data": {
      "text/html": [
       "<div>\n",
       "<table border=\"1\" class=\"dataframe\">\n",
       "  <thead>\n",
       "    <tr style=\"text-align: right;\">\n",
       "      <th></th>\n",
       "      <th>CALL_TYPE</th>\n",
       "      <th>TAXI_ID</th>\n",
       "      <th>Destination_grid</th>\n",
       "      <th>Starting_grid</th>\n",
       "    </tr>\n",
       "  </thead>\n",
       "  <tbody>\n",
       "    <tr>\n",
       "      <th>0</th>\n",
       "      <td>C</td>\n",
       "      <td>20000589</td>\n",
       "      <td>475800</td>\n",
       "      <td>474768</td>\n",
       "    </tr>\n",
       "    <tr>\n",
       "      <th>1</th>\n",
       "      <td>B</td>\n",
       "      <td>20000596</td>\n",
       "      <td>477862</td>\n",
       "      <td>476833</td>\n",
       "    </tr>\n",
       "    <tr>\n",
       "      <th>2</th>\n",
       "      <td>C</td>\n",
       "      <td>20000320</td>\n",
       "      <td>474252</td>\n",
       "      <td>474252</td>\n",
       "    </tr>\n",
       "    <tr>\n",
       "      <th>3</th>\n",
       "      <td>C</td>\n",
       "      <td>20000520</td>\n",
       "      <td>474770</td>\n",
       "      <td>475810</td>\n",
       "    </tr>\n",
       "    <tr>\n",
       "      <th>4</th>\n",
       "      <td>C</td>\n",
       "      <td>20000337</td>\n",
       "      <td>478893</td>\n",
       "      <td>478900</td>\n",
       "    </tr>\n",
       "  </tbody>\n",
       "</table>\n",
       "</div>"
      ],
      "text/plain": [
       "  CALL_TYPE   TAXI_ID  Destination_grid  Starting_grid\n",
       "0         C  20000589            475800         474768\n",
       "1         B  20000596            477862         476833\n",
       "2         C  20000320            474252         474252\n",
       "3         C  20000520            474770         475810\n",
       "4         C  20000337            478893         478900"
      ]
     },
     "execution_count": 15,
     "metadata": {},
     "output_type": "execute_result"
    }
   ],
   "source": [
    "# checking the data\n",
    "df.head()"
   ]
  },
  {
   "cell_type": "markdown",
   "metadata": {},
   "source": [
    "#### One hot encoding the categorical variable"
   ]
  },
  {
   "cell_type": "code",
   "execution_count": 16,
   "metadata": {
    "collapsed": true
   },
   "outputs": [],
   "source": [
    "# encoding the CALL_TYPE column\n",
    "w1 = pd.get_dummies(df.CALL_TYPE)\n",
    "\n",
    "# concatenating it the original dataframe\n",
    "df = pd.concat([df, w1], axis=1)"
   ]
  },
  {
   "cell_type": "code",
   "execution_count": 17,
   "metadata": {
    "collapsed": false
   },
   "outputs": [
    {
     "data": {
      "text/html": [
       "<div>\n",
       "<table border=\"1\" class=\"dataframe\">\n",
       "  <thead>\n",
       "    <tr style=\"text-align: right;\">\n",
       "      <th></th>\n",
       "      <th>TAXI_ID</th>\n",
       "      <th>Destination_grid</th>\n",
       "      <th>Starting_grid</th>\n",
       "      <th>A</th>\n",
       "      <th>B</th>\n",
       "      <th>C</th>\n",
       "    </tr>\n",
       "  </thead>\n",
       "  <tbody>\n",
       "    <tr>\n",
       "      <th>0</th>\n",
       "      <td>20000589</td>\n",
       "      <td>475800</td>\n",
       "      <td>474768</td>\n",
       "      <td>0</td>\n",
       "      <td>0</td>\n",
       "      <td>1</td>\n",
       "    </tr>\n",
       "    <tr>\n",
       "      <th>1</th>\n",
       "      <td>20000596</td>\n",
       "      <td>477862</td>\n",
       "      <td>476833</td>\n",
       "      <td>0</td>\n",
       "      <td>1</td>\n",
       "      <td>0</td>\n",
       "    </tr>\n",
       "    <tr>\n",
       "      <th>2</th>\n",
       "      <td>20000320</td>\n",
       "      <td>474252</td>\n",
       "      <td>474252</td>\n",
       "      <td>0</td>\n",
       "      <td>0</td>\n",
       "      <td>1</td>\n",
       "    </tr>\n",
       "    <tr>\n",
       "      <th>3</th>\n",
       "      <td>20000520</td>\n",
       "      <td>474770</td>\n",
       "      <td>475810</td>\n",
       "      <td>0</td>\n",
       "      <td>0</td>\n",
       "      <td>1</td>\n",
       "    </tr>\n",
       "    <tr>\n",
       "      <th>4</th>\n",
       "      <td>20000337</td>\n",
       "      <td>478893</td>\n",
       "      <td>478900</td>\n",
       "      <td>0</td>\n",
       "      <td>0</td>\n",
       "      <td>1</td>\n",
       "    </tr>\n",
       "  </tbody>\n",
       "</table>\n",
       "</div>"
      ],
      "text/plain": [
       "    TAXI_ID  Destination_grid  Starting_grid  A  B  C\n",
       "0  20000589            475800         474768  0  0  1\n",
       "1  20000596            477862         476833  0  1  0\n",
       "2  20000320            474252         474252  0  0  1\n",
       "3  20000520            474770         475810  0  0  1\n",
       "4  20000337            478893         478900  0  0  1"
      ]
     },
     "execution_count": 17,
     "metadata": {},
     "output_type": "execute_result"
    }
   ],
   "source": [
    "# checking the data\n",
    "del df['CALL_TYPE']\n",
    "df.head()"
   ]
  },
  {
   "cell_type": "code",
   "execution_count": 23,
   "metadata": {
    "collapsed": false
   },
   "outputs": [],
   "source": [
    "le = LabelEncoder()\n",
    "df['Destination_grid'] = le.fit_transform(df['Destination_grid'].values)\n",
    "df['Starting_grid'] = le.fit_transform(df['Starting_grid'].values)\n",
    "#df['CALL_TYPE'] = le.fit_transform(df['CALL_TYPE'].values)\n",
    "#df['ORIGIN_CALL'] = le.fit_transform(df['ORIGIN_CALL'].values)\n",
    "#df['ORIGIN_STAND'] = le.fit_transform(df['ORIGIN_STAND'].values)\n",
    "df['TAXI_ID'] = le.fit_transform(df['TAXI_ID'].values)\n",
    "#df['DAY_TYPE'] = le.fit_transform(df['DAY_TYPE'].values)"
   ]
  },
  {
   "cell_type": "code",
   "execution_count": 24,
   "metadata": {
    "collapsed": false
   },
   "outputs": [
    {
     "data": {
      "text/html": [
       "<div>\n",
       "<table border=\"1\" class=\"dataframe\">\n",
       "  <thead>\n",
       "    <tr style=\"text-align: right;\">\n",
       "      <th></th>\n",
       "      <th>TAXI_ID</th>\n",
       "      <th>Destination_grid</th>\n",
       "      <th>Starting_grid</th>\n",
       "      <th>A</th>\n",
       "      <th>B</th>\n",
       "      <th>C</th>\n",
       "    </tr>\n",
       "  </thead>\n",
       "  <tbody>\n",
       "    <tr>\n",
       "      <th>0</th>\n",
       "      <td>46</td>\n",
       "      <td>21</td>\n",
       "      <td>4</td>\n",
       "      <td>0</td>\n",
       "      <td>0</td>\n",
       "      <td>1</td>\n",
       "    </tr>\n",
       "    <tr>\n",
       "      <th>1</th>\n",
       "      <td>47</td>\n",
       "      <td>52</td>\n",
       "      <td>27</td>\n",
       "      <td>0</td>\n",
       "      <td>1</td>\n",
       "      <td>0</td>\n",
       "    </tr>\n",
       "    <tr>\n",
       "      <th>2</th>\n",
       "      <td>25</td>\n",
       "      <td>6</td>\n",
       "      <td>1</td>\n",
       "      <td>0</td>\n",
       "      <td>0</td>\n",
       "      <td>1</td>\n",
       "    </tr>\n",
       "    <tr>\n",
       "      <th>3</th>\n",
       "      <td>40</td>\n",
       "      <td>10</td>\n",
       "      <td>23</td>\n",
       "      <td>0</td>\n",
       "      <td>0</td>\n",
       "      <td>1</td>\n",
       "    </tr>\n",
       "    <tr>\n",
       "      <th>4</th>\n",
       "      <td>26</td>\n",
       "      <td>59</td>\n",
       "      <td>49</td>\n",
       "      <td>0</td>\n",
       "      <td>0</td>\n",
       "      <td>1</td>\n",
       "    </tr>\n",
       "  </tbody>\n",
       "</table>\n",
       "</div>"
      ],
      "text/plain": [
       "   TAXI_ID  Destination_grid  Starting_grid  A  B  C\n",
       "0       46                21              4  0  0  1\n",
       "1       47                52             27  0  1  0\n",
       "2       25                 6              1  0  0  1\n",
       "3       40                10             23  0  0  1\n",
       "4       26                59             49  0  0  1"
      ]
     },
     "execution_count": 24,
     "metadata": {},
     "output_type": "execute_result"
    }
   ],
   "source": [
    "df.head()"
   ]
  },
  {
   "cell_type": "code",
   "execution_count": 20,
   "metadata": {
    "collapsed": true
   },
   "outputs": [],
   "source": [
    "# saving the 1st dataset for inputting it in neural net\n",
    "df.to_csv('input_train1.csv', inplace=False)"
   ]
  },
  {
   "cell_type": "code",
   "execution_count": 89,
   "metadata": {
    "collapsed": true
   },
   "outputs": [],
   "source": [
    "# reinvering the label encoding in TAXI_ID and coverting it in categorical variable\n",
    "df['TAXI_ID'] = le.inverse_transform(df['TAXI_ID'])\n",
    "w = pd.get_dummies(df.TAXI_ID)"
   ]
  },
  {
   "cell_type": "code",
   "execution_count": 21,
   "metadata": {
    "collapsed": true
   },
   "outputs": [],
   "source": [
    "# adding the dummy variable to the original dataset\n",
    "df = pd.concat([df, w], axis=1)\n",
    "del df['TAXI_ID']"
   ]
  },
  {
   "cell_type": "code",
   "execution_count": null,
   "metadata": {
    "collapsed": true
   },
   "outputs": [],
   "source": [
    "# saving the 2nd dataset for inputting in neural net\n",
    "df.to_csv('input_train2.csv', inplace=False)"
   ]
  },
  {
   "cell_type": "code",
   "execution_count": 59,
   "metadata": {
    "collapsed": false
   },
   "outputs": [],
   "source": []
  },
  {
   "cell_type": "code",
   "execution_count": 27,
   "metadata": {
    "collapsed": true
   },
   "outputs": [],
   "source": []
  },
  {
   "cell_type": "code",
   "execution_count": null,
   "metadata": {
    "collapsed": true
   },
   "outputs": [],
   "source": []
  }
 ],
 "metadata": {
  "kernelspec": {
   "display_name": "Python 3",
   "language": "python",
   "name": "python3"
  },
  "language_info": {
   "codemirror_mode": {
    "name": "ipython",
    "version": 3
   },
   "file_extension": ".py",
   "mimetype": "text/x-python",
   "name": "python",
   "nbconvert_exporter": "python",
   "pygments_lexer": "ipython3",
   "version": "3.5.1"
  }
 },
 "nbformat": 4,
 "nbformat_minor": 0
}
